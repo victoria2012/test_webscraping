{
 "cells": [
  {
   "cell_type": "code",
   "execution_count": 1,
   "id": "aa2915ad",
   "metadata": {},
   "outputs": [],
   "source": [
    "import requests"
   ]
  },
  {
   "cell_type": "markdown",
   "id": "f7618b35",
   "metadata": {},
   "source": [
    "https://news.daum.net/economic"
   ]
  },
  {
   "cell_type": "code",
   "execution_count": 2,
   "id": "3a24c5bd",
   "metadata": {},
   "outputs": [],
   "source": [
    "path = 'https://news.daum.net/economic'\n",
    "req = requests.get(path)"
   ]
  },
  {
   "cell_type": "markdown",
   "id": "630e1ada",
   "metadata": {},
   "source": [
    "url : 통상적인 가장 큰 루트 (맨 끝의 l은 location이며 서버의 위치를 뜻함)\n",
    "uri : "
   ]
  },
  {
   "cell_type": "code",
   "execution_count": 3,
   "id": "ca265554",
   "metadata": {},
   "outputs": [
    {
     "data": {
      "text/plain": [
       "200"
      ]
     },
     "execution_count": 3,
     "metadata": {},
     "output_type": "execute_result"
    }
   ],
   "source": [
    "req.status_code"
   ]
  },
  {
   "cell_type": "code",
   "execution_count": 4,
   "id": "d4647a8c",
   "metadata": {},
   "outputs": [],
   "source": [
    "from bs4 import BeautifulSoup"
   ]
  },
  {
   "cell_type": "code",
   "execution_count": 5,
   "id": "72033386",
   "metadata": {},
   "outputs": [],
   "source": [
    " soup = BeautifulSoup(req.content, 'html.parser')"
   ]
  },
  {
   "cell_type": "code",
   "execution_count": 6,
   "id": "03bef181",
   "metadata": {},
   "outputs": [
    {
     "data": {
      "text/plain": [
       "bs4.BeautifulSoup"
      ]
     },
     "execution_count": 6,
     "metadata": {},
     "output_type": "execute_result"
    }
   ],
   "source": [
    "type(soup)"
   ]
  },
  {
   "cell_type": "code",
   "execution_count": 7,
   "id": "98832bc1",
   "metadata": {},
   "outputs": [],
   "source": [
    "result = soup.select('div > strong.tit_thumb > a[href].link_txt')   #대괄호로 되어 있으므로 리스트로 볼 수 있음  소괄호면 튜플"
   ]
  },
  {
   "cell_type": "code",
   "execution_count": 8,
   "id": "081247b6",
   "metadata": {},
   "outputs": [
    {
     "data": {
      "text/plain": [
       "bs4.element.ResultSet"
      ]
     },
     "execution_count": 8,
     "metadata": {},
     "output_type": "execute_result"
    }
   ],
   "source": [
    "type(result)"
   ]
  },
  {
   "cell_type": "code",
   "execution_count": 9,
   "id": "cd760672",
   "metadata": {},
   "outputs": [
    {
     "data": {
      "text/plain": [
       "<a class=\"link_txt\" data-tiara-custom=\"contentUniqueKey=hamny-20210624174520811\" data-tiara-id=\"20210624174520811\" data-tiara-layer=\"article_main\" data-tiara-ordnum=\"1\" data-tiara-type=\"harmony\" href=\"https://news.v.daum.net/v/20210624174520811\">이주열 \"연내 금리인상..2번 올려도 긴축아니다\"</a>"
      ]
     },
     "execution_count": 9,
     "metadata": {},
     "output_type": "execute_result"
    }
   ],
   "source": [
    "result[0]    # 태그 어트리뷰트 텍스트로 이뤄져 있음"
   ]
  },
  {
   "cell_type": "code",
   "execution_count": 10,
   "id": "e43b89ce",
   "metadata": {},
   "outputs": [],
   "source": [
    "tag = result[0]"
   ]
  },
  {
   "cell_type": "code",
   "execution_count": 11,
   "id": "d3cde621",
   "metadata": {},
   "outputs": [
    {
     "data": {
      "text/plain": [
       "'이주열 \"연내 금리인상..2번 올려도 긴축아니다\"'"
      ]
     },
     "execution_count": 11,
     "metadata": {},
     "output_type": "execute_result"
    }
   ],
   "source": [
    "tag.text"
   ]
  },
  {
   "cell_type": "code",
   "execution_count": 12,
   "id": "b120f059",
   "metadata": {},
   "outputs": [
    {
     "data": {
      "text/plain": [
       "'https://news.v.daum.net/v/20210624174520811'"
      ]
     },
     "execution_count": 12,
     "metadata": {},
     "output_type": "execute_result"
    }
   ],
   "source": [
    "tag['href']"
   ]
  },
  {
   "cell_type": "code",
   "execution_count": 13,
   "id": "4fc718b6",
   "metadata": {},
   "outputs": [
    {
     "data": {
      "text/plain": [
       "5"
      ]
     },
     "execution_count": 13,
     "metadata": {},
     "output_type": "execute_result"
    }
   ],
   "source": [
    "contents = []\n",
    "for tag in result:\n",
    "#     print(tag.text.strip(), tag['href'].strip())\n",
    "    title = tag.text.strip()\n",
    "    link = tag['href'].strip()\n",
    "    content = [title, link]\n",
    "    contents.append(content)\n",
    "    \n",
    "len(contents)"
   ]
  },
  {
   "cell_type": "code",
   "execution_count": 14,
   "id": "c48c097f",
   "metadata": {},
   "outputs": [
    {
     "data": {
      "text/plain": [
       "[['이주열 \"연내 금리인상..2번 올려도 긴축아니다\"',\n",
       "  'https://news.v.daum.net/v/20210624174520811'],\n",
       " ['공정위 예상밖 제재에..삼성 \"직원 밥 잘먹이려한 게 죄인가\"',\n",
       "  'https://news.v.daum.net/v/20210624174236703'],\n",
       " [\"타이어 3사 '가시밭길'..고무값 상승·물류난·美 반덤핑 관세까지\",\n",
       "  'https://news.v.daum.net/v/20210624173206279'],\n",
       " ['\"이베이, 얼마로 만들지가 문제\"..정용진의 e커머스 신세계',\n",
       "  'https://news.v.daum.net/v/20210624173201273'],\n",
       " [\"정용진발 이커머스 지각변동..'승자의 저주' 우려 없나\",\n",
       "  'https://news.v.daum.net/v/20210624171137447']]"
      ]
     },
     "execution_count": 14,
     "metadata": {},
     "output_type": "execute_result"
    }
   ],
   "source": [
    "contents"
   ]
  },
  {
   "cell_type": "code",
   "execution_count": 15,
   "id": "d887381f",
   "metadata": {},
   "outputs": [],
   "source": [
    "import pandas as pd"
   ]
  },
  {
   "cell_type": "code",
   "execution_count": 16,
   "id": "1a8330e2",
   "metadata": {
    "scrolled": true
   },
   "outputs": [],
   "source": [
    "pd = pd.DataFrame(contents, columns=['Title','Link'])"
   ]
  },
  {
   "cell_type": "code",
   "execution_count": 18,
   "id": "05d59f44",
   "metadata": {},
   "outputs": [
    {
     "data": {
      "text/html": [
       "<div>\n",
       "<style scoped>\n",
       "    .dataframe tbody tr th:only-of-type {\n",
       "        vertical-align: middle;\n",
       "    }\n",
       "\n",
       "    .dataframe tbody tr th {\n",
       "        vertical-align: top;\n",
       "    }\n",
       "\n",
       "    .dataframe thead th {\n",
       "        text-align: right;\n",
       "    }\n",
       "</style>\n",
       "<table border=\"1\" class=\"dataframe\">\n",
       "  <thead>\n",
       "    <tr style=\"text-align: right;\">\n",
       "      <th></th>\n",
       "      <th>Title</th>\n",
       "      <th>Link</th>\n",
       "    </tr>\n",
       "  </thead>\n",
       "  <tbody>\n",
       "    <tr>\n",
       "      <th>0</th>\n",
       "      <td>이주열 \"연내 금리인상..2번 올려도 긴축아니다\"</td>\n",
       "      <td>https://news.v.daum.net/v/20210624174520811</td>\n",
       "    </tr>\n",
       "    <tr>\n",
       "      <th>1</th>\n",
       "      <td>공정위 예상밖 제재에..삼성 \"직원 밥 잘먹이려한 게 죄인가\"</td>\n",
       "      <td>https://news.v.daum.net/v/20210624174236703</td>\n",
       "    </tr>\n",
       "    <tr>\n",
       "      <th>2</th>\n",
       "      <td>타이어 3사 '가시밭길'..고무값 상승·물류난·美 반덤핑 관세까지</td>\n",
       "      <td>https://news.v.daum.net/v/20210624173206279</td>\n",
       "    </tr>\n",
       "    <tr>\n",
       "      <th>3</th>\n",
       "      <td>\"이베이, 얼마로 만들지가 문제\"..정용진의 e커머스 신세계</td>\n",
       "      <td>https://news.v.daum.net/v/20210624173201273</td>\n",
       "    </tr>\n",
       "    <tr>\n",
       "      <th>4</th>\n",
       "      <td>정용진발 이커머스 지각변동..'승자의 저주' 우려 없나</td>\n",
       "      <td>https://news.v.daum.net/v/20210624171137447</td>\n",
       "    </tr>\n",
       "  </tbody>\n",
       "</table>\n",
       "</div>"
      ],
      "text/plain": [
       "                                  Title  \\\n",
       "0           이주열 \"연내 금리인상..2번 올려도 긴축아니다\"   \n",
       "1    공정위 예상밖 제재에..삼성 \"직원 밥 잘먹이려한 게 죄인가\"   \n",
       "2  타이어 3사 '가시밭길'..고무값 상승·물류난·美 반덤핑 관세까지   \n",
       "3     \"이베이, 얼마로 만들지가 문제\"..정용진의 e커머스 신세계   \n",
       "4        정용진발 이커머스 지각변동..'승자의 저주' 우려 없나   \n",
       "\n",
       "                                          Link  \n",
       "0  https://news.v.daum.net/v/20210624174520811  \n",
       "1  https://news.v.daum.net/v/20210624174236703  \n",
       "2  https://news.v.daum.net/v/20210624173206279  \n",
       "3  https://news.v.daum.net/v/20210624173201273  \n",
       "4  https://news.v.daum.net/v/20210624171137447  "
      ]
     },
     "execution_count": 18,
     "metadata": {},
     "output_type": "execute_result"
    }
   ],
   "source": [
    "pd"
   ]
  },
  {
   "cell_type": "code",
   "execution_count": 19,
   "id": "98b3d864",
   "metadata": {},
   "outputs": [],
   "source": [
    "pd.to_excel('./saves/economic01.xls', index=False)"
   ]
  },
  {
   "cell_type": "code",
   "execution_count": null,
   "id": "4df1c0b1",
   "metadata": {},
   "outputs": [],
   "source": []
  }
 ],
 "metadata": {
  "kernelspec": {
   "display_name": "Python 3",
   "language": "python",
   "name": "python3"
  },
  "language_info": {
   "codemirror_mode": {
    "name": "ipython",
    "version": 3
   },
   "file_extension": ".py",
   "mimetype": "text/x-python",
   "name": "python",
   "nbconvert_exporter": "python",
   "pygments_lexer": "ipython3",
   "version": "3.6.4"
  }
 },
 "nbformat": 4,
 "nbformat_minor": 5
}
